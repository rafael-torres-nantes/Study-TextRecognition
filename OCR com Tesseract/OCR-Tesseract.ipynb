{
  "cells": [
    {
      "cell_type": "markdown",
      "metadata": {
        "id": "rIbhqe9I_b2k"
      },
      "source": [
        "# OCR com Python e Tesseract"
      ]
    },
    {
      "cell_type": "markdown",
      "metadata": {
        "id": "319v3qibRz_m"
      },
      "source": [
        "# Reconhecimento de texto em imagens"
      ]
    },
    {
      "cell_type": "markdown",
      "metadata": {
        "id": "FvFt86KmCuDa"
      },
      "source": [
        "## Instalando o Tesseract\n",
        "\n",
        "Documentação: https://pypi.org/project/pytesseract/"
      ]
    },
    {
      "cell_type": "code",
      "execution_count": 1,
      "metadata": {
        "colab": {
          "base_uri": "https://localhost:8080/",
          "height": 287
        },
        "id": "jHRO9IpPmnKb",
        "outputId": "4f4a7bfe-0385-48cc-dffc-384be59a1adc"
      },
      "outputs": [
        {
          "name": "stdout",
          "output_type": "stream",
          "text": [
            "Defaulting to user installation because normal site-packages is not writeable\n",
            "Requirement already satisfied: Pillow==9.1.0 in /home/rafatorres/.local/lib/python3.10/site-packages (9.1.0)\n"
          ]
        }
      ],
      "source": [
        "!pip install Pillow==9.1.0 # necessário após atualização no módulo Pillow carregado pelo Colab\n",
        "# Após executar, clique no botão [Restart Runtime] que vai aparecer no output dessa célula, logo abaixo. Em seguida, pode continuar executando normalmente o restante do código"
      ]
    },
    {
      "cell_type": "code",
      "execution_count": 2,
      "metadata": {
        "colab": {
          "base_uri": "https://localhost:8080/"
        },
        "id": "BIQo7z0a8WGH",
        "outputId": "62fa01fe-810b-4624-dd99-7c816177c2dd"
      },
      "outputs": [
        {
          "name": "stdout",
          "output_type": "stream",
          "text": [
            "[sudo] password for rafatorres: "
          ]
        }
      ],
      "source": [
        "# !sudo apt install tesseract-ocr\n",
        "!pip install pytesseract"
      ]
    },
    {
      "cell_type": "markdown",
      "metadata": {
        "id": "dccg5fXACz0G"
      },
      "source": [
        "## Importando as bibliotecas"
      ]
    },
    {
      "cell_type": "code",
      "execution_count": null,
      "metadata": {
        "id": "R3lIXFjc8yvo"
      },
      "outputs": [],
      "source": [
        "import pytesseract\n",
        "import numpy as np\n",
        "import cv2 # OpenCV\n",
        "from google.colab.patches import cv2_imshow"
      ]
    },
    {
      "cell_type": "markdown",
      "metadata": {
        "id": "v4FGBw3zC21d"
      },
      "source": [
        "## Leitura da imagem"
      ]
    },
    {
      "cell_type": "code",
      "execution_count": null,
      "metadata": {
        "colab": {
          "base_uri": "https://localhost:8080/",
          "height": 417
        },
        "id": "JCGWU5wf9D7_",
        "outputId": "1d72f192-73eb-434f-ad83-a1cd571b17de"
      },
      "outputs": [],
      "source": [
        "img = cv2.imread('/content/teste01.jpg')\n",
        "cv2_imshow(img) # BGR (RGB)"
      ]
    },
    {
      "cell_type": "code",
      "execution_count": null,
      "metadata": {
        "colab": {
          "base_uri": "https://localhost:8080/",
          "height": 417
        },
        "id": "f9trFGxA97eX",
        "outputId": "0f8d7fdf-daa5-4fed-c053-d4bc593e876e"
      },
      "outputs": [],
      "source": [
        "rgb = cv2.cvtColor(img, cv2.COLOR_BGR2RGB)\n",
        "cv2_imshow(rgb)"
      ]
    },
    {
      "cell_type": "code",
      "execution_count": null,
      "metadata": {
        "id": "Wu7Ahjic-mx3"
      },
      "outputs": [],
      "source": [
        "texto = pytesseract.image_to_string(rgb)"
      ]
    },
    {
      "cell_type": "code",
      "execution_count": null,
      "metadata": {
        "colab": {
          "base_uri": "https://localhost:8080/"
        },
        "id": "NnFwolmj-x5D",
        "outputId": "d49d289b-e8df-48e8-a1df-373759782450"
      },
      "outputs": [],
      "source": [
        "print(texto)"
      ]
    },
    {
      "cell_type": "markdown",
      "metadata": {
        "id": "2QibO4Zkqh0Q"
      },
      "source": [
        "## Suporte para caracteres e símbolos de outros idiomas"
      ]
    },
    {
      "cell_type": "code",
      "execution_count": null,
      "metadata": {
        "colab": {
          "base_uri": "https://localhost:8080/",
          "height": 417
        },
        "id": "T6L5pSTQ_yh5",
        "outputId": "1ac81a8b-9f74-4767-bc59-b5f8b2a07596"
      },
      "outputs": [],
      "source": [
        "img = cv2.imread('teste02.jpg')\n",
        "cv2_imshow(img)"
      ]
    },
    {
      "cell_type": "code",
      "execution_count": null,
      "metadata": {
        "colab": {
          "base_uri": "https://localhost:8080/",
          "height": 417
        },
        "id": "iossgO_cACKx",
        "outputId": "b8c8c1ba-4457-4d53-c0f2-36d848eb7c8b"
      },
      "outputs": [],
      "source": [
        "rgb = cv2.cvtColor(img, cv2.COLOR_BGR2RGB)\n",
        "cv2_imshow(rgb)"
      ]
    },
    {
      "cell_type": "code",
      "execution_count": null,
      "metadata": {
        "colab": {
          "base_uri": "https://localhost:8080/"
        },
        "id": "RTbbnLuGAXDA",
        "outputId": "49cb7d27-7e0a-4139-89de-5e5ae526f10f"
      },
      "outputs": [],
      "source": [
        "texto = pytesseract.image_to_string(rgb)\n",
        "print(texto) # resumé, fiancé, déjà vu"
      ]
    },
    {
      "cell_type": "code",
      "execution_count": null,
      "metadata": {
        "colab": {
          "base_uri": "https://localhost:8080/"
        },
        "id": "YYGI9GHKA8rs",
        "outputId": "67da8771-ebe5-48aa-ae60-5dae68170c56"
      },
      "outputs": [],
      "source": [
        "!tesseract --list-langs"
      ]
    },
    {
      "cell_type": "code",
      "execution_count": null,
      "metadata": {
        "colab": {
          "base_uri": "https://localhost:8080/"
        },
        "id": "iqCu8wYlBSNC",
        "outputId": "cfdb2c9b-cfbb-406f-e6a6-5e76ce41ceda"
      },
      "outputs": [],
      "source": [
        "!apt-get install tesseract-ocr-por"
      ]
    },
    {
      "cell_type": "code",
      "execution_count": null,
      "metadata": {
        "colab": {
          "base_uri": "https://localhost:8080/"
        },
        "id": "R2-9cSgqBiSc",
        "outputId": "0a5100d4-2e9f-48be-ad71-3c4fafa6b032"
      },
      "outputs": [],
      "source": [
        "!tesseract --list-langs"
      ]
    },
    {
      "cell_type": "code",
      "execution_count": null,
      "metadata": {
        "colab": {
          "base_uri": "https://localhost:8080/"
        },
        "id": "QjsAYK1bBsVO",
        "outputId": "6187924a-3a16-4964-9149-1e9486f241f6"
      },
      "outputs": [],
      "source": [
        "texto = pytesseract.image_to_string(rgb, lang='por')\n",
        "print(texto)"
      ]
    },
    {
      "cell_type": "code",
      "execution_count": null,
      "metadata": {
        "id": "0GXk3TF2COcv"
      },
      "outputs": [],
      "source": [
        "!mkdir tessdata"
      ]
    },
    {
      "cell_type": "markdown",
      "metadata": {
        "id": "AY3lxCQ3G-sU"
      },
      "source": [
        "*Aviso: em setembro de 2021 o link para baixar o **por.traineddata** sofreu uma pequena alteração [ para mais explicações consulte a aula \"Resolvendo problema relacionado ao pacote de idiomas\" ]*\n",
        "\n",
        "Portanto, o link final ficou: https://github.com/tesseract-ocr/tessdata/blob/main/por.traineddata?raw=true (segue abaixo o comando completo)"
      ]
    },
    {
      "cell_type": "code",
      "execution_count": null,
      "metadata": {
        "colab": {
          "base_uri": "https://localhost:8080/"
        },
        "id": "UmBY7XUyCZ98",
        "outputId": "d4e14214-cc50-42d5-91d4-03506fdaf2e5"
      },
      "outputs": [],
      "source": [
        "!wget -O ./tessdata/por.traineddata https://github.com/tesseract-ocr/tessdata/blob/main/por.traineddata?raw=true"
      ]
    },
    {
      "cell_type": "code",
      "execution_count": null,
      "metadata": {
        "colab": {
          "base_uri": "https://localhost:8080/"
        },
        "id": "_vUI1k6-C_Ds",
        "outputId": "441388a2-3c75-4c7e-ec26-11ad0e23a411"
      },
      "outputs": [],
      "source": [
        "config_tesseract = '--tessdata-dir tessdata'\n",
        "texto = pytesseract.image_to_string(rgb, lang='por', config=config_tesseract)\n",
        "print(texto)"
      ]
    },
    {
      "cell_type": "code",
      "execution_count": null,
      "metadata": {
        "colab": {
          "base_uri": "https://localhost:8080/"
        },
        "id": "L3BcGJ8FDW3s",
        "outputId": "39a88b4b-5e0c-4716-d946-c641815ed440"
      },
      "outputs": [],
      "source": [
        "!wget -O ./tessdata/eng.traineddata https://github.com/tesseract-ocr/tessdata/blob/main/eng.traineddata?raw=true"
      ]
    },
    {
      "cell_type": "code",
      "execution_count": null,
      "metadata": {
        "colab": {
          "base_uri": "https://localhost:8080/"
        },
        "id": "2A8XNXwIDgKJ",
        "outputId": "81b3efa8-66c4-480a-bf8c-09c52eb33789"
      },
      "outputs": [],
      "source": [
        "!ls tessdata/"
      ]
    },
    {
      "cell_type": "markdown",
      "metadata": {
        "id": "vn5g678ZGN6p"
      },
      "source": [
        "## Parâmetros"
      ]
    },
    {
      "cell_type": "markdown",
      "metadata": {
        "id": "LtkSwJ88OvaK"
      },
      "source": [
        "### Page segmentation modes (PSM)"
      ]
    },
    {
      "cell_type": "code",
      "execution_count": null,
      "metadata": {
        "colab": {
          "base_uri": "https://localhost:8080/"
        },
        "id": "j3hu6z25bzx5",
        "outputId": "201af84f-7540-49d9-ab59-e034f236544d"
      },
      "outputs": [],
      "source": [
        "!tesseract --help-psm"
      ]
    },
    {
      "cell_type": "code",
      "execution_count": null,
      "metadata": {
        "colab": {
          "base_uri": "https://localhost:8080/",
          "height": 172
        },
        "id": "HwMpZkc6cFLw",
        "outputId": "14b9dcec-925f-4ca9-a535-1a26fad08d68"
      },
      "outputs": [],
      "source": [
        "img = cv2.imread('trecho-livro.jpg')\n",
        "rgb = cv2.cvtColor(img, cv2.COLOR_BGR2RGB)\n",
        "cv2_imshow(rgb)"
      ]
    },
    {
      "cell_type": "code",
      "execution_count": null,
      "metadata": {
        "colab": {
          "base_uri": "https://localhost:8080/"
        },
        "id": "WHfEiSIachCv",
        "outputId": "90f84284-9d6a-4866-d9f8-a2015f730cd3"
      },
      "outputs": [],
      "source": [
        "config_tesseract = '--tessdata-dir tessdata --psm 6'\n",
        "texto = pytesseract.image_to_string(rgb, lang='por', config=config_tesseract)\n",
        "print(texto)"
      ]
    },
    {
      "cell_type": "code",
      "execution_count": null,
      "metadata": {
        "colab": {
          "base_uri": "https://localhost:8080/"
        },
        "id": "rEVaADk2c-oa",
        "outputId": "5b658cd1-64e2-4dd6-a689-dee4d324cd82"
      },
      "outputs": [],
      "source": [
        "config_tesseract = '--tessdata-dir tessdata'\n",
        "texto = pytesseract.image_to_string(rgb, lang='por', config=config_tesseract)\n",
        "print(texto)"
      ]
    },
    {
      "cell_type": "code",
      "execution_count": null,
      "metadata": {
        "colab": {
          "base_uri": "https://localhost:8080/"
        },
        "id": "SN9wTbIGdXSS",
        "outputId": "d908af6f-cf0a-4afb-9509-0d48aaaf394c"
      },
      "outputs": [],
      "source": [
        "config_tesseract = '--tessdata-dir tessdata --psm 7'\n",
        "texto = pytesseract.image_to_string(rgb, lang='por', config=config_tesseract)\n",
        "print(texto)"
      ]
    },
    {
      "cell_type": "code",
      "execution_count": null,
      "metadata": {
        "colab": {
          "base_uri": "https://localhost:8080/",
          "height": 155
        },
        "id": "iMFogMUldlfw",
        "outputId": "52beb1b3-7134-4245-d941-32293f6e0950"
      },
      "outputs": [],
      "source": [
        "img = cv2.imread('saida.jpg')\n",
        "rgb = cv2.cvtColor(img, cv2.COLOR_BGR2RGB)\n",
        "cv2_imshow(rgb)"
      ]
    },
    {
      "cell_type": "code",
      "execution_count": null,
      "metadata": {
        "colab": {
          "base_uri": "https://localhost:8080/"
        },
        "id": "EqPvjK3qd7e_",
        "outputId": "8befaa6e-ee33-46bc-d5e0-b16c6e204314"
      },
      "outputs": [],
      "source": [
        "config_tesseract = '--tessdata-dir tessdata --psm 7'\n",
        "texto = pytesseract.image_to_string(rgb, lang='por', config=config_tesseract)\n",
        "print(texto)"
      ]
    },
    {
      "cell_type": "markdown",
      "metadata": {
        "id": "bgMn3oN6SS3v"
      },
      "source": [
        "### Detecção de orientação da página"
      ]
    },
    {
      "cell_type": "code",
      "execution_count": null,
      "metadata": {
        "id": "U1mDRjanetiQ"
      },
      "outputs": [],
      "source": [
        "from PIL import Image\n",
        "import matplotlib.pyplot as plt"
      ]
    },
    {
      "cell_type": "code",
      "execution_count": null,
      "metadata": {
        "colab": {
          "base_uri": "https://localhost:8080/",
          "height": 269
        },
        "id": "l0EDHPKee67M",
        "outputId": "004ae99f-31d7-41f1-bc53-e3565a1c61dd"
      },
      "outputs": [],
      "source": [
        "img = Image.open('livro01.jpg')\n",
        "plt.imshow(img);"
      ]
    },
    {
      "cell_type": "code",
      "execution_count": null,
      "metadata": {
        "colab": {
          "base_uri": "https://localhost:8080/"
        },
        "id": "JsNReQzUfeFZ",
        "outputId": "a00251cc-c9dc-4377-ab65-275beb02e05f"
      },
      "outputs": [],
      "source": [
        "print(pytesseract.image_to_osd(img))"
      ]
    },
    {
      "cell_type": "markdown",
      "metadata": {
        "id": "wImIO1JwR-gH"
      },
      "source": [
        "# Seleção dos textos\n",
        "\n"
      ]
    },
    {
      "cell_type": "code",
      "execution_count": null,
      "metadata": {
        "id": "8pAjXiGQhj2S"
      },
      "outputs": [],
      "source": [
        "from pytesseract import Output"
      ]
    },
    {
      "cell_type": "code",
      "execution_count": null,
      "metadata": {
        "colab": {
          "base_uri": "https://localhost:8080/",
          "height": 417
        },
        "id": "a5KobbN8hsq4",
        "outputId": "07237a8c-12e4-4df5-f5d6-c666bb555bee"
      },
      "outputs": [],
      "source": [
        "img = cv2.imread('/content/teste_manuscrito_01.jpg')\n",
        "rgb = cv2.cvtColor(img, cv2.COLOR_BGR2RGB)\n",
        "cv2_imshow(rgb)"
      ]
    },
    {
      "cell_type": "markdown",
      "metadata": {
        "id": "XRENFtbxnDP8"
      },
      "source": [
        "- block_num = Número do bloco atual. Quando o tesseract faz o OCR, ele divide a imagem em várias regiões, o que pode variar de acordo com os parametros do PSM e também outros critérios próprios do algoritmo. Cada bloco é uma região\n",
        "\n",
        "- conf = confiança da predição (de 0 a 100. -1 significa que não foi reconhecido texto)\n",
        "\n",
        "- height = altura do bloco de texto detectada (ou seja, da caixa delimitadora)\n",
        "\n",
        "- left = coordenada x onde inicia a caixa delimitadora\n",
        "\n",
        "- level = o level (nível) corresponde à categoria do bloco detectado. são 5 valores possiveis:\n",
        "  1. página\n",
        "  2. bloco\n",
        "  3. parágrafo\n",
        "  4. linha\n",
        "  5. palavra\n",
        "\n",
        "Portanto, se foi retornado o valor 5 significa que o bloco detectado é texto, se foi 4 significa que o que foi detectado é uma linha\n",
        "\n",
        "- line_num = número da linha do que foi detectado (inicia com 0)\n",
        "\n",
        "- page_num = o índice da página onde o item foi detectado. Na maioria dos casos sempre haverá uma página só\n",
        "\n",
        "- text = o resultado do reconhecimento\n",
        "\n",
        "- top = coordenada y onde a caixa delimitadora começa\n",
        "\n",
        "- width = largura do bloco de texto atual detectado\n",
        "\n",
        "- word_num = numero da palavra (indice) dentro do bloco atual"
      ]
    },
    {
      "cell_type": "code",
      "execution_count": null,
      "metadata": {
        "colab": {
          "base_uri": "https://localhost:8080/"
        },
        "id": "p2XX6YTRiBjG",
        "outputId": "b7f17751-f95e-4bcd-e674-9aa536de8ad7"
      },
      "outputs": [],
      "source": [
        "config_tesseract = '--tessdata-dir tessdata'\n",
        "resultado = pytesseract.image_to_data(rgb, config=config_tesseract, lang='por', output_type=Output.DICT)\n",
        "resultado"
      ]
    },
    {
      "cell_type": "code",
      "execution_count": null,
      "metadata": {
        "id": "ym57MmL9rbJz"
      },
      "outputs": [],
      "source": [
        "min_conf = 40 #@param {type: 'slider', min: 0, max: 100}"
      ]
    },
    {
      "cell_type": "code",
      "execution_count": null,
      "metadata": {
        "id": "Inzy5moarphO"
      },
      "outputs": [],
      "source": [
        "def caixa_texto(resultado, img, cor = (255, 100, 0)):\n",
        "  x = resultado['left'][i]\n",
        "  y = resultado['top'][i]\n",
        "  w = resultado['width'][i]\n",
        "  h = resultado['height'][i]\n",
        "\n",
        "  cv2.rectangle(img, (x, y), (x + w, y + h), cor, 2)\n",
        "\n",
        "  return x, y, img"
      ]
    },
    {
      "cell_type": "code",
      "execution_count": null,
      "metadata": {
        "colab": {
          "base_uri": "https://localhost:8080/"
        },
        "id": "DB0MFfhhuNqa",
        "outputId": "ca38a9e9-9096-4408-8058-0627948d4d0e"
      },
      "outputs": [],
      "source": [
        "len(resultado['text'])"
      ]
    },
    {
      "cell_type": "code",
      "execution_count": null,
      "metadata": {
        "colab": {
          "base_uri": "https://localhost:8080/",
          "height": 417
        },
        "id": "z1HB43xdt64x",
        "outputId": "2bb946f3-7106-4989-919b-0b3bd8dc4464"
      },
      "outputs": [],
      "source": [
        "img_copia = rgb.copy()\n",
        "for i in range(0, len(resultado['text'])):\n",
        "  #print(i)\n",
        "  confianca = int(resultado['conf'][i])\n",
        "  #print(confianca)\n",
        "  if confianca > min_conf:\n",
        "    x, y, img = caixa_texto(resultado, img_copia)\n",
        "    #print(x, y)\n",
        "    texto = resultado['text'][i]\n",
        "    cv2.putText(img_copia, texto, (x, y - 10), cv2.FONT_HERSHEY_SIMPLEX, 1.1, (0,0,255))\n",
        "cv2_imshow(img_copia)"
      ]
    },
    {
      "cell_type": "code",
      "execution_count": null,
      "metadata": {
        "id": "It3VPB3GyKkg"
      },
      "outputs": [],
      "source": [
        "img = cv2.imread('teste02.jpg')\n",
        "rgb = cv2.cvtColor(img, cv2.COLOR_BGR2RGB)"
      ]
    },
    {
      "cell_type": "code",
      "execution_count": null,
      "metadata": {
        "colab": {
          "base_uri": "https://localhost:8080/"
        },
        "id": "fGJbBdDIybFG",
        "outputId": "572a9f40-03b8-4bf8-99e5-5a464d9d30a8"
      },
      "outputs": [],
      "source": [
        "config_tesseract = \"--tessdata-dir tessdata\"\n",
        "resultado = pytesseract.image_to_data(rgb, config=config_tesseract, lang=\"por\", output_type=Output.DICT)\n",
        "resultado"
      ]
    },
    {
      "cell_type": "code",
      "execution_count": null,
      "metadata": {
        "id": "XJmOzdvPy4xW"
      },
      "outputs": [],
      "source": [
        "from PIL import ImageFont, ImageDraw, Image\n",
        "fonte = '/content/calibri.ttf'"
      ]
    },
    {
      "cell_type": "code",
      "execution_count": null,
      "metadata": {
        "id": "l0UqMIo5zfZy"
      },
      "outputs": [],
      "source": [
        "def escreve_texto(texto, x, y, img, fonte, tamanho_texto=32):\n",
        "  fonte = ImageFont.truetype(fonte, tamanho_texto)\n",
        "  img_pil = Image.fromarray(img)\n",
        "  draw = ImageDraw.Draw(img_pil)\n",
        "  draw.text((x, y - tamanho_texto), texto, font = fonte)\n",
        "  img = np.array(img_pil)\n",
        "  return img"
      ]
    },
    {
      "cell_type": "code",
      "execution_count": null,
      "metadata": {
        "colab": {
          "base_uri": "https://localhost:8080/",
          "height": 417
        },
        "id": "CnqWi900yqON",
        "outputId": "835ce289-b35a-44b9-86cf-8c4b23c3f347"
      },
      "outputs": [],
      "source": [
        "img_copia = rgb.copy()\n",
        "for i in range(0, len(resultado['text'])):\n",
        "  confianca = int(resultado['conf'][i])\n",
        "  if confianca > min_conf:\n",
        "    x, y, img = caixa_texto(resultado, img_copia)\n",
        "    texto = resultado['text'][i]\n",
        "    #cv2.putText(img_copia, texto, (x, y - 10), cv2.FONT_HERSHEY_SIMPLEX, 1.1, (0,0,255))\n",
        "    img_copia = escreve_texto(texto, x, y, img_copia, fonte)\n",
        "cv2_imshow(img_copia)"
      ]
    },
    {
      "cell_type": "markdown",
      "metadata": {
        "id": "DENHZyZBMM4Y"
      },
      "source": [
        "# Buscando informações específicas na imagem"
      ]
    },
    {
      "cell_type": "code",
      "execution_count": null,
      "metadata": {
        "id": "mEX-LnJD6K6t"
      },
      "outputs": [],
      "source": [
        "import re # regular expressions"
      ]
    },
    {
      "cell_type": "code",
      "execution_count": null,
      "metadata": {
        "colab": {
          "base_uri": "https://localhost:8080/",
          "height": 151
        },
        "id": "YHqKLyyT6TVQ",
        "outputId": "5409944f-fe14-4131-bfbb-206be0c9305b"
      },
      "outputs": [],
      "source": [
        "img = cv2.imread(\"tabela_teste.jpg\")\n",
        "rgb = cv2.cvtColor(img, cv2.COLOR_BGR2RGB)\n",
        "cv2_imshow(rgb)"
      ]
    },
    {
      "cell_type": "code",
      "execution_count": null,
      "metadata": {
        "colab": {
          "base_uri": "https://localhost:8080/"
        },
        "id": "HgUbfncs6mqT",
        "outputId": "269ffebd-d02f-4590-9163-a3ed6a6b6397"
      },
      "outputs": [],
      "source": [
        "config_tesseract = \"--tessdata-dir tessdata\"\n",
        "resultado = pytesseract.image_to_data(rgb, config=config_tesseract, lang=\"por\", output_type=Output.DICT)\n",
        "resultado"
      ]
    },
    {
      "cell_type": "code",
      "execution_count": null,
      "metadata": {
        "id": "oINlTBsP6x5N"
      },
      "outputs": [],
      "source": [
        "# https://regexr.com/\n",
        "padrao_data = '^(0[1-9]|[12][0-9]|3[01])/(0[1-9]|1[012])/(19|20)\\d\\d$'"
      ]
    },
    {
      "cell_type": "code",
      "execution_count": null,
      "metadata": {
        "colab": {
          "base_uri": "https://localhost:8080/",
          "height": 151
        },
        "id": "hD1Ti_2x7Vk0",
        "outputId": "f7eb74b9-0206-4de7-bbf0-3755d0fd81f1"
      },
      "outputs": [],
      "source": [
        "datas = []\n",
        "img_copia = rgb.copy()\n",
        "for i in range(0, len(resultado['text'])):\n",
        "  confianca = int(resultado['conf'][i])\n",
        "  if confianca > min_conf:\n",
        "    texto = resultado['text'][i]\n",
        "    if re.match(padrao_data, texto):\n",
        "      x, y, img = caixa_texto(resultado, img_copia, (0,0,255))\n",
        "      img_copia = escreve_texto(texto, x, y, img_copia, fonte, 12)\n",
        "      datas.append(texto)\n",
        "    else:\n",
        "      x, y, img_copia = caixa_texto(resultado, img_copia)\n",
        "cv2_imshow(img_copia)"
      ]
    },
    {
      "cell_type": "code",
      "execution_count": null,
      "metadata": {
        "colab": {
          "base_uri": "https://localhost:8080/"
        },
        "id": "kpN1aWhs-gAn",
        "outputId": "893019d1-86a6-4c56-8c48-c9480056be8f"
      },
      "outputs": [],
      "source": [
        "datas"
      ]
    },
    {
      "cell_type": "markdown",
      "metadata": {
        "id": "9h7WNR-H7u3C"
      },
      "source": [
        "# Detecção de texto em cenários naturais"
      ]
    },
    {
      "cell_type": "code",
      "execution_count": null,
      "metadata": {
        "colab": {
          "base_uri": "https://localhost:8080/",
          "height": 497
        },
        "id": "M41BKvKNAdv_",
        "outputId": "74a42a8a-c209-40c0-befa-75caa8e617e2"
      },
      "outputs": [],
      "source": [
        "img = cv2.imread(\"caneca.jpg\")\n",
        "rgb = cv2.cvtColor(img, cv2.COLOR_BGR2RGB)\n",
        "cv2_imshow(rgb)"
      ]
    },
    {
      "cell_type": "code",
      "execution_count": null,
      "metadata": {
        "colab": {
          "base_uri": "https://localhost:8080/"
        },
        "id": "t6CKmW5FApBm",
        "outputId": "fc0c2a25-2be5-4fc2-f9eb-c7e97b065e3e"
      },
      "outputs": [],
      "source": [
        "config_tesseract = \"--tessdata-dir tessdata --psm 11\"\n",
        "resultado = pytesseract.image_to_data(rgb, config=config_tesseract, lang=\"eng\", output_type=Output.DICT)\n",
        "resultado"
      ]
    },
    {
      "cell_type": "code",
      "execution_count": null,
      "metadata": {
        "id": "tnQgZp7gf62S"
      },
      "outputs": [],
      "source": [
        "min_conf = 50"
      ]
    },
    {
      "cell_type": "code",
      "execution_count": null,
      "metadata": {
        "colab": {
          "base_uri": "https://localhost:8080/",
          "height": 497
        },
        "id": "JhcVsm2yA0rZ",
        "outputId": "774f4160-18e9-40e9-f48e-791af8ace86c"
      },
      "outputs": [],
      "source": [
        "img_copia = rgb.copy()\n",
        "for i in range(0, len(resultado['text'])):\n",
        "  confianca = int(resultado['conf'][i])\n",
        "  if confianca > min_conf:\n",
        "    texto = resultado['text'][i]\n",
        "    if not texto.isspace() and len(texto) > 0:\n",
        "      x, y, img = caixa_texto(resultado, img_copia)\n",
        "      img_copia = escreve_texto(texto, x, y, img_copia, fonte)\n",
        "cv2_imshow(img_copia)"
      ]
    },
    {
      "cell_type": "code",
      "execution_count": null,
      "metadata": {
        "colab": {
          "base_uri": "https://localhost:8080/"
        },
        "id": "emBERvxxBrr4",
        "outputId": "0d20adc6-eafb-421c-b9fe-6a257873edce"
      },
      "outputs": [],
      "source": [
        "resultado['conf']"
      ]
    },
    {
      "cell_type": "code",
      "execution_count": null,
      "metadata": {
        "colab": {
          "base_uri": "https://localhost:8080/"
        },
        "id": "s2wjvEcvB3br",
        "outputId": "8d63c91b-78db-4b32-d30d-5fd3dcb41d84"
      },
      "outputs": [],
      "source": [
        "resultado['text']"
      ]
    }
  ],
  "metadata": {
    "colab": {
      "provenance": []
    },
    "kernelspec": {
      "display_name": "Python 3",
      "name": "python3"
    },
    "language_info": {
      "codemirror_mode": {
        "name": "ipython",
        "version": 3
      },
      "file_extension": ".py",
      "mimetype": "text/x-python",
      "name": "python",
      "nbconvert_exporter": "python",
      "pygments_lexer": "ipython3",
      "version": "3.10.12"
    }
  },
  "nbformat": 4,
  "nbformat_minor": 0
}
